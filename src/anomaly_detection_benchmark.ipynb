{
 "cells": [
  {
   "cell_type": "code",
   "execution_count": 9,
   "metadata": {},
   "outputs": [],
   "source": [
    "import pandas as pd\n",
    "import numpy as np\n",
    "import matplotlib.pyplot as plt\n",
    "import seaborn as sns\n",
    "from tqdm import tqdm\n",
    " \n",
    "import sklearn.preprocessing\n",
    "from sklearn.decomposition import PCA\n",
    "from sklearn.svm import OneClassSVM\n",
    "from sklearn.neighbors import LocalOutlierFactor\n",
    "\n",
    "import utils\n",
    "import constants"
   ]
  },
  {
   "cell_type": "code",
   "execution_count": 10,
   "metadata": {},
   "outputs": [],
   "source": [
    "def drop_and_fill(data):\n",
    "    data[\"timestamp\"] = pd.to_datetime(data[\"timestamp\"])\n",
    "    data = data.drop([\"QGL\", \"T-JUS-CKGL\"], axis=1)\n",
    "    data = data.fillna(0)\n",
    "    data = data.set_index(\"timestamp\")\n",
    "    \n",
    "    return data"
   ]
  },
  {
   "cell_type": "code",
   "execution_count": 11,
   "metadata": {},
   "outputs": [],
   "source": [
    "def split_normal_data(data, split_size=constants.TRAIN_SPLIT):\n",
    "    normal_data = data[data[\"class\"] == 0]\n",
    "    \n",
    "    normal_data = normal_data.drop(\"class\", axis=1)\n",
    "\n",
    "    split = int(split_size * len(normal_data))\n",
    "\n",
    "    train_normal_data = normal_data.iloc[:split]\n",
    "    test_normal_data = normal_data.iloc[split:]\n",
    "    \n",
    "    return train_normal_data, test_normal_data"
   ]
  },
  {
   "cell_type": "code",
   "execution_count": 12,
   "metadata": {},
   "outputs": [],
   "source": [
    "def match_normal_samples(abnormal_data, n_test_normal):\n",
    "    samples = np.arange(len(abnormal_data))\n",
    "    np.random.shuffle(samples)\n",
    "    samples = samples[:n_test_normal]\n",
    "    \n",
    "    return abnormal_data[samples]"
   ]
  },
  {
   "cell_type": "code",
   "execution_count": 13,
   "metadata": {},
   "outputs": [],
   "source": [
    "def shuffle_test(test_data):\n",
    "    shuffle = np.arange(len(test_data))\n",
    "    np.random.shuffle(shuffle)\n",
    "    \n",
    "    y_test = [0 if s < len(test_data)/2 else 1 for s in shuffle]\n",
    "    \n",
    "    return test_data[shuffle], y_test"
   ]
  },
  {
   "cell_type": "markdown",
   "metadata": {},
   "source": [
    "### Vargas (2019) benchmark"
   ]
  },
  {
   "cell_type": "code",
   "execution_count": 6,
   "metadata": {},
   "outputs": [
    {
     "name": "stderr",
     "output_type": "stream",
     "text": [
      "100%|██████████| 49/49 [00:07<00:00,  6.95it/s]\n"
     ]
    }
   ],
   "source": [
    "precision_scores = []\n",
    "recall_scores = []\n",
    "f1_scores = []\n",
    "\n",
    "files = utils.read_files(constants.FILE_PATH, classes=constants.ABNORMAL_CLASSES, real_only=True)\n",
    "\n",
    "for file in tqdm(files):\n",
    "    data = pd.read_csv(file)\n",
    "    data = drop_and_fill(data)\n",
    "    train_normal_data, test_normal_data = split_normal_data(data, split_size=constants.TRAIN_SPLIT)\n",
    "    abnormal_data = data[data[\"class\"] != 0]\n",
    "    abnormal_data = abnormal_data.drop(\"class\", axis=1)\n",
    "    \n",
    "    if len(train_normal_data) < 50:\n",
    "        continue\n",
    "    \n",
    "    scaler = sklearn.preprocessing.StandardScaler()\n",
    "    train_data = scaler.fit_transform(train_normal_data)\n",
    "    test_normal_data = scaler.transform(test_normal_data)\n",
    "    test_abnormal_data = scaler.transform(abnormal_data)\n",
    "    \n",
    "    train = utils.create_sequence(train_data)\n",
    "    test_normal = utils.create_sequence(test_normal_data)\n",
    "    \n",
    "    test_abnormal = utils.create_sequence(test_abnormal_data)\n",
    "    test_abnormal = match_normal_samples(test_abnormal, len(test_normal))\n",
    "    \n",
    "    test = np.concatenate((test_normal, test_abnormal))\n",
    "    test, y_test = shuffle_test(test)\n",
    "    \n",
    "    x_train = np.empty(shape=(len(train), 5, train.shape[2]))\n",
    "    x_test = np.empty(shape=(len(test), 5, test.shape[2]))\n",
    "    \n",
    "    for i, sample in enumerate(train):\n",
    "        x_train[i] = utils.get_features(sample)\n",
    "        \n",
    "    for i, sample in enumerate(test):\n",
    "        x_test[i] = utils.get_features(sample)\n",
    "    \n",
    "    if len(x_train) < 8 or len(x_test) < 6:\n",
    "        continue\n",
    "    \n",
    "    x_train = x_train.reshape(len(x_train), 5 * train.shape[2])\n",
    "    x_test = x_test.reshape(len(x_test), 5 * test.shape[2])\n",
    "    \n",
    "    pca = PCA(n_components=4)\n",
    "    x_train = pca.fit_transform(x_train)\n",
    "    x_test = pca.transform(x_test)\n",
    "    \n",
    "    lof = LocalOutlierFactor(novelty=True, n_neighbors=5, metric=\"euclidean\").fit(x_train)\n",
    "    p = [0 if pred == 1 else 1 for pred in lof.predict(x_test)]\n",
    "    \n",
    "    precision = utils.precision(y_test, p)\n",
    "    recall = utils.recall(y_test, p)\n",
    "    f1 = utils.f1(y_test, p)\n",
    "\n",
    "    \n",
    "    precision_scores.append(precision)\n",
    "    recall_scores.append(recall)\n",
    "    f1_scores.append(f1)"
   ]
  },
  {
   "cell_type": "code",
   "execution_count": 8,
   "metadata": {},
   "outputs": [
    {
     "name": "stdout",
     "output_type": "stream",
     "text": [
      "Scores:\n",
      "Precision: (0.6980335947793712, 0.1788824053101556)\n",
      "Recall: (0.9933862433862435, 0.03019236034527335)\n",
      "F1: (0.806121234521302, 0.11408482694909357)\n"
     ]
    }
   ],
   "source": [
    "precision_scores = np.array(precision_scores)\n",
    "recall_scores = np.array(recall_scores)\n",
    "f1_scores = np.array(f1_scores)\n",
    "\n",
    "print(\"Scores:\")\n",
    "print(\"Precision:\", (precision_scores.mean(), precision_scores.std()))\n",
    "print(\"Recall:\", (recall_scores.mean(), recall_scores.std()))\n",
    "print(\"F1:\", (f1_scores.mean(), f1_scores.std()))"
   ]
  }
 ],
 "metadata": {
  "kernelspec": {
   "display_name": "Python 3.10.6 ('venv': venv)",
   "language": "python",
   "name": "python3"
  },
  "language_info": {
   "codemirror_mode": {
    "name": "ipython",
    "version": 3
   },
   "file_extension": ".py",
   "mimetype": "text/x-python",
   "name": "python",
   "nbconvert_exporter": "python",
   "pygments_lexer": "ipython3",
   "version": "3.10.6"
  },
  "orig_nbformat": 4,
  "vscode": {
   "interpreter": {
    "hash": "c9b182c9a308ff44bfb5b294024954ad36de6358b1012027c7685d113c2ba73e"
   }
  }
 },
 "nbformat": 4,
 "nbformat_minor": 2
}
